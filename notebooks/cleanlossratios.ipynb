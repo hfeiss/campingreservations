{
 "cells": [
  {
   "cell_type": "code",
   "execution_count": 1,
   "metadata": {},
   "outputs": [],
   "source": [
    "numbers = [582, 543, 431646, 313049, 1761250,\n",
    "           1374703, 2051407, 1576178, 2218485,\n",
    "           1589417, 2259827, 1605827, 2464941,\n",
    "           1690555, 2555657, 1746681, 2654437,\n",
    "           1789217, 2949219, 1963826, 2980714,\n",
    "           2177774, 3303553, 2390531, 3424271,\n",
    "           2749447]"
   ]
  },
  {
   "cell_type": "code",
   "execution_count": 3,
   "metadata": {},
   "outputs": [
    {
     "name": "stdout",
     "output_type": "stream",
     "text": [
      "2006 is at 0.93%\n",
      "2007 is at 0.73%\n",
      "2008 is at 0.78%\n",
      "2009 is at 0.77%\n",
      "2010 is at 0.72%\n",
      "2011 is at 0.71%\n",
      "2012 is at 0.69%\n",
      "2013 is at 0.68%\n",
      "2014 is at 0.67%\n",
      "2015 is at 0.67%\n",
      "2016 is at 0.73%\n",
      "2017 is at 0.72%\n",
      "2018 is at 0.80%\n"
     ]
    }
   ],
   "source": [
    "year = 2006\n",
    "total = 0\n",
    "for num in range(0, len(numbers), 2):\n",
    "    total += numbers[num + 1]\n",
    "    print(f'{year} is at {numbers[num + 1]/numbers[num]:.2f}%')\n",
    "    year += 1"
   ]
  },
  {
   "cell_type": "code",
   "execution_count": null,
   "metadata": {},
   "outputs": [],
   "source": []
  }
 ],
 "metadata": {
  "kernelspec": {
   "display_name": "Python 3",
   "language": "python",
   "name": "python3"
  },
  "language_info": {
   "codemirror_mode": {
    "name": "ipython",
    "version": 3
   },
   "file_extension": ".py",
   "mimetype": "text/x-python",
   "name": "python",
   "nbconvert_exporter": "python",
   "pygments_lexer": "ipython3",
   "version": "3.7.5"
  }
 },
 "nbformat": 4,
 "nbformat_minor": 4
}
